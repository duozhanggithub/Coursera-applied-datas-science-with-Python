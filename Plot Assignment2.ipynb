{
 "cells": [
  {
   "cell_type": "markdown",
   "metadata": {},
   "source": [
    "# Assignment 2\n",
    "\n",
    "Before working on this assignment please read these instructions fully. In the submission area, you will notice that you can click the link to **Preview the Grading** for each step of the assignment. This is the criteria that will be used for peer grading. Please familiarize yourself with the criteria before beginning the assignment.\n",
    "\n",
    "An NOAA dataset has been stored in the file `data/C2A2_data/BinnedCsvs_d400/b211e0f8ac9d18bbd3d4766cebe74d244bc0a4018c70211946acf33c.csv`. The data for this assignment comes from a subset of The National Centers for Environmental Information (NCEI) [Daily Global Historical Climatology Network](https://www1.ncdc.noaa.gov/pub/data/ghcn/daily/readme.txt) (GHCN-Daily). The GHCN-Daily is comprised of daily climate records from thousands of land surface stations across the globe.\n",
    "\n",
    "Each row in the assignment datafile corresponds to a single observation.\n",
    "\n",
    "The following variables are provided to you:\n",
    "\n",
    "* **id** : station identification code\n",
    "* **date** : date in YYYY-MM-DD format (e.g. 2012-01-24 = January 24, 2012)\n",
    "* **element** : indicator of element type\n",
    "    * TMAX : Maximum temperature (tenths of degrees C)\n",
    "    * TMIN : Minimum temperature (tenths of degrees C)\n",
    "* **value** : data value for element (tenths of degrees C)\n",
    "\n",
    "For this assignment, you must:\n",
    "\n",
    "1. Read the documentation and familiarize yourself with the dataset, then write some python code which returns a line graph of the record high and record low temperatures by day of the year over the period 2005-2014. The area between the record high and record low temperatures for each day should be shaded.\n",
    "2. Overlay a scatter of the 2015 data for any points (highs and lows) for which the ten year record (2005-2014) record high or record low was broken in 2015.\n",
    "3. Watch out for leap days (i.e. February 29th), it is reasonable to remove these points from the dataset for the purpose of this visualization.\n",
    "4. Make the visual nice! Leverage principles from the first module in this course when developing your solution. Consider issues such as legends, labels, and chart junk.\n",
    "\n",
    "The data you have been given is near **As, Akershus, Norway**, and the stations the data comes from are shown on the map below."
   ]
  },
  {
   "cell_type": "code",
   "execution_count": 1,
   "metadata": {
    "collapsed": false
   },
   "outputs": [
    {
     "data": {
      "text/html": [
       "<iframe src=\"data:text/html;base64,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\" width=\"100%\" height=\"480\"></iframe>"
      ],
      "text/plain": [
       "<IPython.core.display.HTML object>"
      ]
     },
     "execution_count": 1,
     "metadata": {},
     "output_type": "execute_result"
    }
   ],
   "source": [
    "import matplotlib.pyplot as plt\n",
    "import mplleaflet\n",
    "import pandas as pd\n",
    "\n",
    "def leaflet_plot_stations(binsize, hashid):\n",
    "\n",
    "    df = pd.read_csv('data/C2A2_data/BinSize_d{}.csv'.format(binsize))\n",
    "\n",
    "    station_locations_by_hash = df[df['hash'] == hashid]\n",
    "\n",
    "    lons = station_locations_by_hash['LONGITUDE'].tolist()\n",
    "    lats = station_locations_by_hash['LATITUDE'].tolist()\n",
    "\n",
    "    plt.figure(figsize=(8,8))\n",
    "\n",
    "    plt.scatter(lons, lats, c='r', alpha=0.7, s=200)\n",
    "\n",
    "    return mplleaflet.display()\n",
    "\n",
    "leaflet_plot_stations(400,'b211e0f8ac9d18bbd3d4766cebe74d244bc0a4018c70211946acf33c')"
   ]
  },
  {
   "cell_type": "code",
   "execution_count": 2,
   "metadata": {
    "collapsed": false
   },
   "outputs": [],
   "source": [
    "#read table\n",
    "df = pd.read_csv('data/C2A2_data/BinnedCsvs_d400/b211e0f8ac9d18bbd3d4766cebe74d244bc0a4018c70211946acf33c.csv')"
   ]
  },
  {
   "cell_type": "code",
   "execution_count": 3,
   "metadata": {
    "collapsed": false
   },
   "outputs": [],
   "source": [
    "#define the selected station as dfplot\n",
    "dfplot=df.loc[df['ID'] == 'NOE00109885']"
   ]
  },
  {
   "cell_type": "code",
   "execution_count": 4,
   "metadata": {
    "collapsed": false
   },
   "outputs": [
    {
     "data": {
      "text/html": [
       "<div>\n",
       "<table border=\"1\" class=\"dataframe\">\n",
       "  <thead>\n",
       "    <tr style=\"text-align: right;\">\n",
       "      <th></th>\n",
       "      <th>ID</th>\n",
       "      <th>Date</th>\n",
       "      <th>Element</th>\n",
       "      <th>Data_Value</th>\n",
       "    </tr>\n",
       "  </thead>\n",
       "  <tbody>\n",
       "    <tr>\n",
       "      <th>0</th>\n",
       "      <td>NOE00109885</td>\n",
       "      <td>2010-09-03</td>\n",
       "      <td>TMAX</td>\n",
       "      <td>150</td>\n",
       "    </tr>\n",
       "    <tr>\n",
       "      <th>4</th>\n",
       "      <td>NOE00109885</td>\n",
       "      <td>2005-07-11</td>\n",
       "      <td>TMIN</td>\n",
       "      <td>183</td>\n",
       "    </tr>\n",
       "    <tr>\n",
       "      <th>10</th>\n",
       "      <td>NOE00109885</td>\n",
       "      <td>2015-01-08</td>\n",
       "      <td>TMAX</td>\n",
       "      <td>53</td>\n",
       "    </tr>\n",
       "    <tr>\n",
       "      <th>12</th>\n",
       "      <td>NOE00109885</td>\n",
       "      <td>2015-11-04</td>\n",
       "      <td>TMIN</td>\n",
       "      <td>18</td>\n",
       "    </tr>\n",
       "    <tr>\n",
       "      <th>15</th>\n",
       "      <td>NOE00109885</td>\n",
       "      <td>2014-11-17</td>\n",
       "      <td>TMIN</td>\n",
       "      <td>26</td>\n",
       "    </tr>\n",
       "  </tbody>\n",
       "</table>\n",
       "</div>"
      ],
      "text/plain": [
       "             ID        Date Element  Data_Value\n",
       "0   NOE00109885  2010-09-03    TMAX         150\n",
       "4   NOE00109885  2005-07-11    TMIN         183\n",
       "10  NOE00109885  2015-01-08    TMAX          53\n",
       "12  NOE00109885  2015-11-04    TMIN          18\n",
       "15  NOE00109885  2014-11-17    TMIN          26"
      ]
     },
     "execution_count": 4,
     "metadata": {},
     "output_type": "execute_result"
    }
   ],
   "source": [
    "#understand the plot dataframe\n",
    "dfplot.head()"
   ]
  },
  {
   "cell_type": "code",
   "execution_count": 5,
   "metadata": {
    "collapsed": false
   },
   "outputs": [
    {
     "name": "stderr",
     "output_type": "stream",
     "text": [
      "/opt/conda/lib/python3.5/site-packages/ipykernel/__main__.py:2: SettingWithCopyWarning: \n",
      "A value is trying to be set on a copy of a slice from a DataFrame.\n",
      "Try using .loc[row_indexer,col_indexer] = value instead\n",
      "\n",
      "See the caveats in the documentation: http://pandas.pydata.org/pandas-docs/stable/indexing.html#indexing-view-versus-copy\n",
      "  from ipykernel import kernelapp as app\n"
     ]
    }
   ],
   "source": [
    "#covert data column to datetime\n",
    "dfplot['Date'] = pd.to_datetime(dfplot['Date'])"
   ]
  },
  {
   "cell_type": "code",
   "execution_count": 6,
   "metadata": {
    "collapsed": false
   },
   "outputs": [],
   "source": [
    "dfplot=dfplot.drop('ID', axis=1)"
   ]
  },
  {
   "cell_type": "code",
   "execution_count": 7,
   "metadata": {
    "collapsed": false
   },
   "outputs": [],
   "source": [
    "dfplot['Year'] = dfplot['Date'].dt.year"
   ]
  },
  {
   "cell_type": "code",
   "execution_count": 8,
   "metadata": {
    "collapsed": true
   },
   "outputs": [],
   "source": [
    "dfplot['Month'] = dfplot['Date'].dt.month"
   ]
  },
  {
   "cell_type": "code",
   "execution_count": 9,
   "metadata": {
    "collapsed": true
   },
   "outputs": [],
   "source": [
    "dfplot['Day'] = dfplot['Date'].dt.day"
   ]
  },
  {
   "cell_type": "code",
   "execution_count": 10,
   "metadata": {
    "collapsed": false
   },
   "outputs": [
    {
     "data": {
      "text/html": [
       "<div>\n",
       "<table border=\"1\" class=\"dataframe\">\n",
       "  <thead>\n",
       "    <tr style=\"text-align: right;\">\n",
       "      <th></th>\n",
       "      <th>Date</th>\n",
       "      <th>Element</th>\n",
       "      <th>Data_Value</th>\n",
       "      <th>Year</th>\n",
       "      <th>Month</th>\n",
       "      <th>Day</th>\n",
       "    </tr>\n",
       "  </thead>\n",
       "  <tbody>\n",
       "    <tr>\n",
       "      <th>0</th>\n",
       "      <td>2010-09-03</td>\n",
       "      <td>TMAX</td>\n",
       "      <td>150</td>\n",
       "      <td>2010</td>\n",
       "      <td>9</td>\n",
       "      <td>3</td>\n",
       "    </tr>\n",
       "    <tr>\n",
       "      <th>4</th>\n",
       "      <td>2005-07-11</td>\n",
       "      <td>TMIN</td>\n",
       "      <td>183</td>\n",
       "      <td>2005</td>\n",
       "      <td>7</td>\n",
       "      <td>11</td>\n",
       "    </tr>\n",
       "    <tr>\n",
       "      <th>10</th>\n",
       "      <td>2015-01-08</td>\n",
       "      <td>TMAX</td>\n",
       "      <td>53</td>\n",
       "      <td>2015</td>\n",
       "      <td>1</td>\n",
       "      <td>8</td>\n",
       "    </tr>\n",
       "    <tr>\n",
       "      <th>12</th>\n",
       "      <td>2015-11-04</td>\n",
       "      <td>TMIN</td>\n",
       "      <td>18</td>\n",
       "      <td>2015</td>\n",
       "      <td>11</td>\n",
       "      <td>4</td>\n",
       "    </tr>\n",
       "    <tr>\n",
       "      <th>15</th>\n",
       "      <td>2014-11-17</td>\n",
       "      <td>TMIN</td>\n",
       "      <td>26</td>\n",
       "      <td>2014</td>\n",
       "      <td>11</td>\n",
       "      <td>17</td>\n",
       "    </tr>\n",
       "  </tbody>\n",
       "</table>\n",
       "</div>"
      ],
      "text/plain": [
       "         Date Element  Data_Value  Year  Month  Day\n",
       "0  2010-09-03    TMAX         150  2010      9    3\n",
       "4  2005-07-11    TMIN         183  2005      7   11\n",
       "10 2015-01-08    TMAX          53  2015      1    8\n",
       "12 2015-11-04    TMIN          18  2015     11    4\n",
       "15 2014-11-17    TMIN          26  2014     11   17"
      ]
     },
     "execution_count": 10,
     "metadata": {},
     "output_type": "execute_result"
    }
   ],
   "source": [
    "#create the new plot dataframe, extract Year, Month and Day\n",
    "dfplot.head()"
   ]
  },
  {
   "cell_type": "code",
   "execution_count": 11,
   "metadata": {
    "collapsed": true
   },
   "outputs": [],
   "source": [
    "dfplot = dfplot[~(dfplot.Year == 2015)]"
   ]
  },
  {
   "cell_type": "code",
   "execution_count": 12,
   "metadata": {
    "collapsed": false
   },
   "outputs": [
    {
     "data": {
      "text/html": [
       "<div>\n",
       "<table border=\"1\" class=\"dataframe\">\n",
       "  <thead>\n",
       "    <tr style=\"text-align: right;\">\n",
       "      <th></th>\n",
       "      <th>Date</th>\n",
       "      <th>Element</th>\n",
       "      <th>Data_Value</th>\n",
       "      <th>Year</th>\n",
       "      <th>Month</th>\n",
       "      <th>Day</th>\n",
       "    </tr>\n",
       "  </thead>\n",
       "  <tbody>\n",
       "  </tbody>\n",
       "</table>\n",
       "</div>"
      ],
      "text/plain": [
       "Empty DataFrame\n",
       "Columns: [Date, Element, Data_Value, Year, Month, Day]\n",
       "Index: []"
      ]
     },
     "execution_count": 12,
     "metadata": {},
     "output_type": "execute_result"
    }
   ],
   "source": [
    "dfplot[(dfplot.Year == 2015)]"
   ]
  },
  {
   "cell_type": "code",
   "execution_count": 13,
   "metadata": {
    "collapsed": true
   },
   "outputs": [],
   "source": [
    "dfplot=dfplot.drop('Year', axis=1)\n",
    "dfplot=dfplot.drop('Date', axis=1)"
   ]
  },
  {
   "cell_type": "code",
   "execution_count": 14,
   "metadata": {
    "collapsed": false
   },
   "outputs": [
    {
     "data": {
      "text/html": [
       "<div>\n",
       "<table border=\"1\" class=\"dataframe\">\n",
       "  <thead>\n",
       "    <tr style=\"text-align: right;\">\n",
       "      <th></th>\n",
       "      <th>Element</th>\n",
       "      <th>Data_Value</th>\n",
       "      <th>Month</th>\n",
       "      <th>Day</th>\n",
       "    </tr>\n",
       "  </thead>\n",
       "  <tbody>\n",
       "    <tr>\n",
       "      <th>0</th>\n",
       "      <td>TMAX</td>\n",
       "      <td>150</td>\n",
       "      <td>9</td>\n",
       "      <td>3</td>\n",
       "    </tr>\n",
       "    <tr>\n",
       "      <th>4</th>\n",
       "      <td>TMIN</td>\n",
       "      <td>183</td>\n",
       "      <td>7</td>\n",
       "      <td>11</td>\n",
       "    </tr>\n",
       "    <tr>\n",
       "      <th>15</th>\n",
       "      <td>TMIN</td>\n",
       "      <td>26</td>\n",
       "      <td>11</td>\n",
       "      <td>17</td>\n",
       "    </tr>\n",
       "    <tr>\n",
       "      <th>16</th>\n",
       "      <td>TMAX</td>\n",
       "      <td>20</td>\n",
       "      <td>3</td>\n",
       "      <td>17</td>\n",
       "    </tr>\n",
       "    <tr>\n",
       "      <th>18</th>\n",
       "      <td>TMIN</td>\n",
       "      <td>38</td>\n",
       "      <td>4</td>\n",
       "      <td>14</td>\n",
       "    </tr>\n",
       "  </tbody>\n",
       "</table>\n",
       "</div>"
      ],
      "text/plain": [
       "   Element  Data_Value  Month  Day\n",
       "0     TMAX         150      9    3\n",
       "4     TMIN         183      7   11\n",
       "15    TMIN          26     11   17\n",
       "16    TMAX          20      3   17\n",
       "18    TMIN          38      4   14"
      ]
     },
     "execution_count": 14,
     "metadata": {},
     "output_type": "execute_result"
    }
   ],
   "source": [
    "#dataframe with only Month, Day, Element and Value\n",
    "dfplot.head()"
   ]
  },
  {
   "cell_type": "code",
   "execution_count": 15,
   "metadata": {
    "collapsed": true
   },
   "outputs": [],
   "source": [
    "#separet two dataframe\n",
    "dfplotmax = dfplot[dfplot.Element == 'TMAX']\n",
    "dfplotmin = dfplot[dfplot.Element == 'TMIN']"
   ]
  },
  {
   "cell_type": "code",
   "execution_count": 16,
   "metadata": {
    "collapsed": false
   },
   "outputs": [
    {
     "data": {
      "text/html": [
       "<div>\n",
       "<table border=\"1\" class=\"dataframe\">\n",
       "  <thead>\n",
       "    <tr style=\"text-align: right;\">\n",
       "      <th></th>\n",
       "      <th>Element</th>\n",
       "      <th>Data_Value</th>\n",
       "      <th>Month</th>\n",
       "      <th>Day</th>\n",
       "    </tr>\n",
       "  </thead>\n",
       "  <tbody>\n",
       "    <tr>\n",
       "      <th>0</th>\n",
       "      <td>TMAX</td>\n",
       "      <td>150</td>\n",
       "      <td>9</td>\n",
       "      <td>3</td>\n",
       "    </tr>\n",
       "    <tr>\n",
       "      <th>16</th>\n",
       "      <td>TMAX</td>\n",
       "      <td>20</td>\n",
       "      <td>3</td>\n",
       "      <td>17</td>\n",
       "    </tr>\n",
       "    <tr>\n",
       "      <th>30</th>\n",
       "      <td>TMAX</td>\n",
       "      <td>101</td>\n",
       "      <td>3</td>\n",
       "      <td>30</td>\n",
       "    </tr>\n",
       "    <tr>\n",
       "      <th>36</th>\n",
       "      <td>TMAX</td>\n",
       "      <td>-103</td>\n",
       "      <td>1</td>\n",
       "      <td>16</td>\n",
       "    </tr>\n",
       "    <tr>\n",
       "      <th>44</th>\n",
       "      <td>TMAX</td>\n",
       "      <td>56</td>\n",
       "      <td>11</td>\n",
       "      <td>18</td>\n",
       "    </tr>\n",
       "  </tbody>\n",
       "</table>\n",
       "</div>"
      ],
      "text/plain": [
       "   Element  Data_Value  Month  Day\n",
       "0     TMAX         150      9    3\n",
       "16    TMAX          20      3   17\n",
       "30    TMAX         101      3   30\n",
       "36    TMAX        -103      1   16\n",
       "44    TMAX          56     11   18"
      ]
     },
     "execution_count": 16,
     "metadata": {},
     "output_type": "execute_result"
    }
   ],
   "source": [
    "#two dataframes\n",
    "dfplotmax.head()"
   ]
  },
  {
   "cell_type": "code",
   "execution_count": 17,
   "metadata": {
    "collapsed": false
   },
   "outputs": [
    {
     "data": {
      "text/html": [
       "<div>\n",
       "<table border=\"1\" class=\"dataframe\">\n",
       "  <thead>\n",
       "    <tr style=\"text-align: right;\">\n",
       "      <th></th>\n",
       "      <th>Element</th>\n",
       "      <th>Data_Value</th>\n",
       "      <th>Month</th>\n",
       "      <th>Day</th>\n",
       "    </tr>\n",
       "  </thead>\n",
       "  <tbody>\n",
       "    <tr>\n",
       "      <th>4</th>\n",
       "      <td>TMIN</td>\n",
       "      <td>183</td>\n",
       "      <td>7</td>\n",
       "      <td>11</td>\n",
       "    </tr>\n",
       "    <tr>\n",
       "      <th>15</th>\n",
       "      <td>TMIN</td>\n",
       "      <td>26</td>\n",
       "      <td>11</td>\n",
       "      <td>17</td>\n",
       "    </tr>\n",
       "    <tr>\n",
       "      <th>18</th>\n",
       "      <td>TMIN</td>\n",
       "      <td>38</td>\n",
       "      <td>4</td>\n",
       "      <td>14</td>\n",
       "    </tr>\n",
       "    <tr>\n",
       "      <th>19</th>\n",
       "      <td>TMIN</td>\n",
       "      <td>-79</td>\n",
       "      <td>3</td>\n",
       "      <td>20</td>\n",
       "    </tr>\n",
       "    <tr>\n",
       "      <th>21</th>\n",
       "      <td>TMIN</td>\n",
       "      <td>-9</td>\n",
       "      <td>12</td>\n",
       "      <td>11</td>\n",
       "    </tr>\n",
       "  </tbody>\n",
       "</table>\n",
       "</div>"
      ],
      "text/plain": [
       "   Element  Data_Value  Month  Day\n",
       "4     TMIN         183      7   11\n",
       "15    TMIN          26     11   17\n",
       "18    TMIN          38      4   14\n",
       "19    TMIN         -79      3   20\n",
       "21    TMIN          -9     12   11"
      ]
     },
     "execution_count": 17,
     "metadata": {},
     "output_type": "execute_result"
    }
   ],
   "source": [
    "#two dataframes\n",
    "dfplotmin.head()"
   ]
  },
  {
   "cell_type": "code",
   "execution_count": 18,
   "metadata": {
    "collapsed": false
   },
   "outputs": [
    {
     "name": "stderr",
     "output_type": "stream",
     "text": [
      "/opt/conda/lib/python3.5/site-packages/ipykernel/__main__.py:2: UserWarning: Boolean Series key will be reindexed to match DataFrame index.\n",
      "  from ipykernel import kernelapp as app\n",
      "/opt/conda/lib/python3.5/site-packages/ipykernel/__main__.py:3: UserWarning: Boolean Series key will be reindexed to match DataFrame index.\n",
      "  app.launch_new_instance()\n"
     ]
    }
   ],
   "source": [
    "#remove leap year\n",
    "dfplotmax = dfplotmax[~((dfplot.Month == 2) & (dfplot.Day == 29))]\n",
    "dfplotmin = dfplotmin[~((dfplot.Month == 2) & (dfplot.Day == 29))]"
   ]
  },
  {
   "cell_type": "code",
   "execution_count": 19,
   "metadata": {
    "collapsed": false
   },
   "outputs": [
    {
     "data": {
      "text/html": [
       "<div>\n",
       "<table border=\"1\" class=\"dataframe\">\n",
       "  <thead>\n",
       "    <tr style=\"text-align: right;\">\n",
       "      <th></th>\n",
       "      <th>Element</th>\n",
       "      <th>Data_Value</th>\n",
       "      <th>Month</th>\n",
       "      <th>Day</th>\n",
       "    </tr>\n",
       "  </thead>\n",
       "  <tbody>\n",
       "  </tbody>\n",
       "</table>\n",
       "</div>"
      ],
      "text/plain": [
       "Empty DataFrame\n",
       "Columns: [Element, Data_Value, Month, Day]\n",
       "Index: []"
      ]
     },
     "execution_count": 19,
     "metadata": {},
     "output_type": "execute_result"
    }
   ],
   "source": [
    "#test of leap year removed\n",
    "dfplotmax[((dfplotmax.Month == 2) & (dfplotmax.Day == 29))]\n",
    "dfplotmin[((dfplotmin.Month == 2) & (dfplotmin.Day == 29))]"
   ]
  },
  {
   "cell_type": "code",
   "execution_count": 23,
   "metadata": {
    "collapsed": false
   },
   "outputs": [
    {
     "data": {
      "text/html": [
       "<div>\n",
       "<table border=\"1\" class=\"dataframe\">\n",
       "  <thead>\n",
       "    <tr style=\"text-align: right;\">\n",
       "      <th></th>\n",
       "      <th>Element</th>\n",
       "      <th>Data_Value</th>\n",
       "      <th>Month</th>\n",
       "      <th>Day</th>\n",
       "    </tr>\n",
       "  </thead>\n",
       "  <tbody>\n",
       "    <tr>\n",
       "      <th>8851</th>\n",
       "      <td>TMAX</td>\n",
       "      <td>26</td>\n",
       "      <td>1</td>\n",
       "      <td>3</td>\n",
       "    </tr>\n",
       "    <tr>\n",
       "      <th>25591</th>\n",
       "      <td>TMAX</td>\n",
       "      <td>45</td>\n",
       "      <td>1</td>\n",
       "      <td>3</td>\n",
       "    </tr>\n",
       "    <tr>\n",
       "      <th>29547</th>\n",
       "      <td>TMAX</td>\n",
       "      <td>-22</td>\n",
       "      <td>1</td>\n",
       "      <td>3</td>\n",
       "    </tr>\n",
       "    <tr>\n",
       "      <th>32605</th>\n",
       "      <td>TMAX</td>\n",
       "      <td>43</td>\n",
       "      <td>1</td>\n",
       "      <td>3</td>\n",
       "    </tr>\n",
       "    <tr>\n",
       "      <th>33956</th>\n",
       "      <td>TMAX</td>\n",
       "      <td>-4</td>\n",
       "      <td>1</td>\n",
       "      <td>3</td>\n",
       "    </tr>\n",
       "    <tr>\n",
       "      <th>35680</th>\n",
       "      <td>TMAX</td>\n",
       "      <td>7</td>\n",
       "      <td>1</td>\n",
       "      <td>3</td>\n",
       "    </tr>\n",
       "    <tr>\n",
       "      <th>37748</th>\n",
       "      <td>TMAX</td>\n",
       "      <td>-51</td>\n",
       "      <td>1</td>\n",
       "      <td>3</td>\n",
       "    </tr>\n",
       "    <tr>\n",
       "      <th>39565</th>\n",
       "      <td>TMAX</td>\n",
       "      <td>31</td>\n",
       "      <td>1</td>\n",
       "      <td>3</td>\n",
       "    </tr>\n",
       "    <tr>\n",
       "      <th>41997</th>\n",
       "      <td>TMAX</td>\n",
       "      <td>-105</td>\n",
       "      <td>1</td>\n",
       "      <td>3</td>\n",
       "    </tr>\n",
       "    <tr>\n",
       "      <th>43222</th>\n",
       "      <td>TMAX</td>\n",
       "      <td>42</td>\n",
       "      <td>1</td>\n",
       "      <td>3</td>\n",
       "    </tr>\n",
       "  </tbody>\n",
       "</table>\n",
       "</div>"
      ],
      "text/plain": [
       "      Element  Data_Value  Month  Day\n",
       "8851     TMAX          26      1    3\n",
       "25591    TMAX          45      1    3\n",
       "29547    TMAX         -22      1    3\n",
       "32605    TMAX          43      1    3\n",
       "33956    TMAX          -4      1    3\n",
       "35680    TMAX           7      1    3\n",
       "37748    TMAX         -51      1    3\n",
       "39565    TMAX          31      1    3\n",
       "41997    TMAX        -105      1    3\n",
       "43222    TMAX          42      1    3"
      ]
     },
     "execution_count": 23,
     "metadata": {},
     "output_type": "execute_result"
    }
   ],
   "source": [
    "dfplotmax[(dfplotmax['Month'] == 1) & (dfplotmax['Day'] == 3)]"
   ]
  },
  {
   "cell_type": "code",
   "execution_count": 24,
   "metadata": {
    "collapsed": false
   },
   "outputs": [],
   "source": [
    "dfplotmax=pd.pivot_table(dfplotmax, index=['Month','Day'], aggfunc='max')"
   ]
  },
  {
   "cell_type": "code",
   "execution_count": 25,
   "metadata": {
    "collapsed": false
   },
   "outputs": [
    {
     "data": {
      "text/html": [
       "<div>\n",
       "<table border=\"1\" class=\"dataframe\">\n",
       "  <thead>\n",
       "    <tr style=\"text-align: right;\">\n",
       "      <th></th>\n",
       "      <th></th>\n",
       "      <th>Data_Value</th>\n",
       "      <th>Element</th>\n",
       "    </tr>\n",
       "    <tr>\n",
       "      <th>Month</th>\n",
       "      <th>Day</th>\n",
       "      <th></th>\n",
       "      <th></th>\n",
       "    </tr>\n",
       "  </thead>\n",
       "  <tbody>\n",
       "    <tr>\n",
       "      <th rowspan=\"5\" valign=\"top\">1</th>\n",
       "      <th>1</th>\n",
       "      <td>51</td>\n",
       "      <td>TMAX</td>\n",
       "    </tr>\n",
       "    <tr>\n",
       "      <th>2</th>\n",
       "      <td>49</td>\n",
       "      <td>TMAX</td>\n",
       "    </tr>\n",
       "    <tr>\n",
       "      <th>3</th>\n",
       "      <td>45</td>\n",
       "      <td>TMAX</td>\n",
       "    </tr>\n",
       "    <tr>\n",
       "      <th>4</th>\n",
       "      <td>68</td>\n",
       "      <td>TMAX</td>\n",
       "    </tr>\n",
       "    <tr>\n",
       "      <th>5</th>\n",
       "      <td>55</td>\n",
       "      <td>TMAX</td>\n",
       "    </tr>\n",
       "  </tbody>\n",
       "</table>\n",
       "</div>"
      ],
      "text/plain": [
       "           Data_Value Element\n",
       "Month Day                    \n",
       "1     1            51    TMAX\n",
       "      2            49    TMAX\n",
       "      3            45    TMAX\n",
       "      4            68    TMAX\n",
       "      5            55    TMAX"
      ]
     },
     "execution_count": 25,
     "metadata": {},
     "output_type": "execute_result"
    }
   ],
   "source": [
    "dfplotmax.head()"
   ]
  },
  {
   "cell_type": "code",
   "execution_count": 27,
   "metadata": {
    "collapsed": false
   },
   "outputs": [],
   "source": [
    "dfplotmin=pd.pivot_table(dfplotmin, index=['Month','Day'], aggfunc='min')"
   ]
  },
  {
   "cell_type": "code",
   "execution_count": 42,
   "metadata": {
    "collapsed": false
   },
   "outputs": [
    {
     "data": {
      "text/html": [
       "<div>\n",
       "<table border=\"1\" class=\"dataframe\">\n",
       "  <thead>\n",
       "    <tr style=\"text-align: right;\">\n",
       "      <th></th>\n",
       "      <th></th>\n",
       "      <th>Data_Value</th>\n",
       "      <th>Element</th>\n",
       "    </tr>\n",
       "    <tr>\n",
       "      <th>Month</th>\n",
       "      <th>Day</th>\n",
       "      <th></th>\n",
       "      <th></th>\n",
       "    </tr>\n",
       "  </thead>\n",
       "  <tbody>\n",
       "    <tr>\n",
       "      <th rowspan=\"5\" valign=\"top\">1</th>\n",
       "      <th>1</th>\n",
       "      <td>-104</td>\n",
       "      <td>TMIN</td>\n",
       "    </tr>\n",
       "    <tr>\n",
       "      <th>2</th>\n",
       "      <td>-119</td>\n",
       "      <td>TMIN</td>\n",
       "    </tr>\n",
       "    <tr>\n",
       "      <th>3</th>\n",
       "      <td>-152</td>\n",
       "      <td>TMIN</td>\n",
       "    </tr>\n",
       "    <tr>\n",
       "      <th>4</th>\n",
       "      <td>-119</td>\n",
       "      <td>TMIN</td>\n",
       "    </tr>\n",
       "    <tr>\n",
       "      <th>5</th>\n",
       "      <td>-157</td>\n",
       "      <td>TMIN</td>\n",
       "    </tr>\n",
       "  </tbody>\n",
       "</table>\n",
       "</div>"
      ],
      "text/plain": [
       "           Data_Value Element\n",
       "Month Day                    \n",
       "1     1          -104    TMIN\n",
       "      2          -119    TMIN\n",
       "      3          -152    TMIN\n",
       "      4          -119    TMIN\n",
       "      5          -157    TMIN"
      ]
     },
     "execution_count": 42,
     "metadata": {},
     "output_type": "execute_result"
    }
   ],
   "source": [
    "dfplotmin.head()"
   ]
  },
  {
   "cell_type": "code",
   "execution_count": 44,
   "metadata": {
    "collapsed": false
   },
   "outputs": [],
   "source": [
    "import numpy as np\n",
    "\n",
    "plt.figure()\n",
    "observation_dates = np.arange('2017-01-01', '2018-01-01', dtype='datetime64[D]')\n",
    "observation_dates = list(map(pd.to_datetime, observation_dates)) # convert the map to a list to get rid of the error"
   ]
  },
  {
   "cell_type": "code",
   "execution_count": 48,
   "metadata": {
    "collapsed": false
   },
   "outputs": [
    {
     "data": {
      "image/png": "[encoded data removed]",
      "text/plain": [
       "<matplotlib.figure.Figure at 0x7f6a03c9f6d8>"
      ]
     },
     "metadata": {},
     "output_type": "display_data"
    }
   ],
   "source": [
    "plt.plot(observation_dates, dfplotmin['Data_Value'], '-o', observation_dates, dfplotmax['Data_Value'], '-o')\n",
    "plt.show()"
   ]
  },
  {
   "cell_type": "code",
   "execution_count": null,
   "metadata": {
    "collapsed": true
   },
   "outputs": [],
   "source": []
  }
 ],
 "metadata": {
  "kernelspec": {
   "display_name": "Python 3",
   "language": "python",
   "name": "python3"
  },
  "language_info": {
   "codemirror_mode": {
    "name": "ipython",
    "version": 3
   },
   "file_extension": ".py",
   "mimetype": "text/x-python",
   "name": "python",
   "nbconvert_exporter": "python",
   "pygments_lexer": "ipython3",
   "version": "3.5.2"
  }
 },
 "nbformat": 4,
 "nbformat_minor": 1
}
